{
  "cells": [
    {
      "cell_type": "markdown",
      "metadata": {},
      "source": [
        "# Neural Projection Extractor (PubMed → LLM → CSV)\n",
        "改良版：Methodハイブリッド推定 + DOI補完 + 強化プロンプト"
      ]
    },
    {
      "cell_type": "code",
      "metadata": {
        "colab": {
          "base_uri": "https://colab.research.google.com/"
        }
      },
      "source": [
        "# Install deps & set env\n",
        "!pip -q install pdfminer.six openai requests\n",
        "import os\n",
        "OPENAI_API_KEY = \"YOUR_OPENAI_KEY\"\n",
        "NCBI_EMAIL = \"your_email@example.com\"\n",
        "NCBI_API_KEY = \"YOUR_NCBI_KEY\"  # optional\n",
        "os.environ['OPENAI_API_KEY']=OPENAI_API_KEY\n",
        "os.environ['NCBI_EMAIL']=NCBI_EMAIL\n",
        "os.environ['NCBI_API_KEY']=NCBI_API_KEY\n",
        "print('OPENAI_API_KEY set:', bool(os.environ.get('OPENAI_API_KEY')))\n",
        "print('NCBI_EMAIL:', os.environ.get('NCBI_EMAIL'))\n",
        "print('NCBI_API_KEY set:', bool(os.environ.get('NCBI_API_KEY')))"
      ]
    },
    {
      "cell_type": "code",
      "metadata": {},
      "source": [
        "# Write project files\n",
        "from pathlib import Path, PurePath\n",
        "bundle = '/content/neural_projection_bundle'\n",
        "import zipfile, io\n",
        "from google.colab import files\n",
        "\n",
        "# If uploaded as zip, unzip; else, create from embedded strings (skipped here)\n",
        "import shutil, os\n",
        "src_zip = '/content/neural_projection_bundle.zip'\n",
        "if os.path.exists(src_zip):\n",
        "    !unzip -o /content/neural_projection_bundle.zip -d /content/\n",
        "else:\n",
        "    print('Please upload neural_projection_bundle.zip (from chat download) and rerun this cell.')"
      ]
    },
    {
      "cell_type": "code",
      "metadata": {},
      "source": [
        "# Run batch\n",
        "OUT = '/content/out_pubmed10.csv'\n",
        "QUERY = '(projection OR projects to OR innervat* OR afferent* OR efferent* OR input* OR output* OR connect*) AND (thalamus OR cortex OR striatum OR caudate OR putamen OR hippocampus OR \"area V1\" OR \"area M1\" OR cerebell*)'\n",
        "COUNT = 10\n",
        "MODEL = 'gpt-5-nano'\n",
        "\n",
        "!python /content/neural_projection_bundle/batch_llm_pubmed10_ncbi.py \\\n",
        "  --email \"$NCBI_EMAIL\" \\\n",
        "  --api_key \"$NCBI_API_KEY\" \\\n",
        "  --query \"$QUERY\" \\\n",
        "  --count {COUNT} \\\n",
        "  --model \"$MODEL\" \\\n",
        "  --out_csv \"$OUT\""
      ]
    },
    {
      "cell_type": "code",
      "metadata": {},
      "source": [
        "import pandas as pd\n",
        "pd.read_csv('/content/out_pubmed10.csv').head()"
      ]
    }
  ],
  "metadata": {
    "colab": {
      "provenance": []
    },
    "kernelspec": {
      "display_name": "Python 3",
      "language": "python",
      "name": "python3"
    }
  },
  "nbformat": 4,
  "nbformat_minor": 5
}