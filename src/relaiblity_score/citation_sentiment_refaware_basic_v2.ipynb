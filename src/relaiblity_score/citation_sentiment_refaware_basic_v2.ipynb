{
 "cells": [
  {
   "cell_type": "markdown",
   "id": "976bd4e6",
   "metadata": {},
   "source": [
    "# Reference‑aware citation sentence extraction (Basic, v2)\n",
    "\n",
    "PMCID がある被引用論文では、**JATS の `<ref-list>` と `<xref ref-type=\"bibr\">`** を突き合わせ、\n",
    "対象論文（PMID/DOI）に対応する **実引用文** を抽出します。PMCID がない場合は抄録にフォールバックできます。"
   ]
  },
  {
   "cell_type": "markdown",
   "id": "be7f0741",
   "metadata": {},
   "source": [
    "## Parameters (edit then Run All)\n",
    "- `TARGET_PMID`: 解析対象の PMID\n",
    "- `OUT_DIR`: 出力先\n",
    "- `MAX_CITING`: 被引用の最大件数（None で全件）\n",
    "- `FALLBACK_TO_ABSTRACT`: True なら PMC で見つからない時に抄録で代替\n",
    "- `NCBI_API_KEY`: 任意。設定すると 3 req/s → 10 req/s\n",
    "- `PAUSE`: API 呼び出し間隔（秒）"
   ]
  },
  {
   "cell_type": "code",
   "execution_count": 1,
   "id": "45b24918",
   "metadata": {},
   "outputs": [],
   "source": [
    "# >>> Edit here <<<\n",
    "TARGET_PMID = \"10519872\"\n",
    "OUT_DIR = \"results_csv\"\n",
    "MAX_CITING = 50  # None for all\n",
    "FALLBACK_TO_ABSTRACT = True\n",
    "NCBI_API_KEY = \"\"\n",
    "PAUSE = 0.25\n"
   ]
  },
  {
   "cell_type": "markdown",
   "id": "5b9a4c08",
   "metadata": {},
   "source": [
    "## Install & one‑time data (run once)\n",
    "`punkt_tab` は NLTK 3.8+ で必要です。"
   ]
  },
  {
   "cell_type": "code",
   "execution_count": 2,
   "id": "96b55f67",
   "metadata": {},
   "outputs": [
    {
     "name": "stdout",
     "output_type": "stream",
     "text": [
      "Note: you may need to restart the kernel to use updated packages.\n"
     ]
    }
   ],
   "source": [
    "%pip -q install requests pandas tqdm nltk textblob lxml"
   ]
  },
  {
   "cell_type": "code",
   "execution_count": 3,
   "id": "ecdf4531",
   "metadata": {},
   "outputs": [
    {
     "name": "stderr",
     "output_type": "stream",
     "text": [
      "[nltk_data] Downloading package punkt to\n",
      "[nltk_data]     /Users/yutaashihara/nltk_data...\n",
      "[nltk_data]   Package punkt is already up-to-date!\n",
      "[nltk_data] Downloading package punkt_tab to\n",
      "[nltk_data]     /Users/yutaashihara/nltk_data...\n",
      "[nltk_data]   Package punkt_tab is already up-to-date!\n",
      "[nltk_data] Downloading package vader_lexicon to\n",
      "[nltk_data]     /Users/yutaashihara/nltk_data...\n",
      "[nltk_data]   Package vader_lexicon is already up-to-date!\n"
     ]
    },
    {
     "data": {
      "text/plain": [
       "True"
      ]
     },
     "execution_count": 3,
     "metadata": {},
     "output_type": "execute_result"
    }
   ],
   "source": [
    "import nltk\n",
    "nltk.download('punkt')\n",
    "nltk.download('punkt_tab')\n",
    "nltk.download('vader_lexicon')"
   ]
  },
  {
   "cell_type": "markdown",
   "id": "ff530c1a",
   "metadata": {},
   "source": [
    "## Pipeline\n",
    "1) `efetch` で対象メタ → 2) `elink` で Cited‑by PMIDs → 3) citing の PMCID があれば JATS を取得\n",
    "4) `<ref-list>` で対象の `<ref id>` を特定 → 5) `<xref>` から本文側の**文**を抽出 → 6) スコアリングして CSV"
   ]
  },
  {
   "cell_type": "code",
   "execution_count": 4,
   "id": "7445581b",
   "metadata": {},
   "outputs": [
    {
     "name": "stderr",
     "output_type": "stream",
     "text": [
      "/opt/miniconda3/envs/wholebif/lib/python3.10/site-packages/requests/__init__.py:86: RequestsDependencyWarning: Unable to find acceptable character detection dependency (chardet or charset_normalizer).\n",
      "  warnings.warn(\n"
     ]
    }
   ],
   "source": [
    "import os, re, time, requests, pandas as pd\n",
    "from lxml import etree\n",
    "from tqdm import tqdm\n",
    "from nltk import sent_tokenize\n",
    "from nltk.sentiment import SentimentIntensityAnalyzer\n",
    "from textblob import TextBlob\n",
    "\n",
    "EU = 'https://eutils.ncbi.nlm.nih.gov/entrez/eutils/'\n",
    "\n",
    "def _get(url, **params):\n",
    "    if NCBI_API_KEY:\n",
    "        params.setdefault('api_key', NCBI_API_KEY)\n",
    "    r = requests.get(url, params=params, timeout=60)\n",
    "    r.raise_for_status()\n",
    "    return r\n",
    "\n",
    "def get_pubmed_meta(pmid: str):\n",
    "    xml = _get(EU+'efetch.fcgi', db='pubmed', id=pmid, retmode='xml').text\n",
    "    root = etree.fromstring(xml.encode())\n",
    "    def xstr(path):\n",
    "        return (root.xpath('string(%s)' % path) or '').strip()\n",
    "    meta = {\n",
    "        'title':   xstr('.//ArticleTitle'),\n",
    "        'journal': xstr('.//Journal/Title'),\n",
    "        'pmcid':   xstr('.//ArticleIdList/ArticleId[@IdType=\"pmc\"]'),\n",
    "        'doi':     xstr('.//ArticleIdList/ArticleId[@IdType=\"doi\"]').lower(),\n",
    "    }\n",
    "    return meta\n",
    "\n",
    "def get_citing_pmids(pmid: str):\n",
    "    j = _get(EU+'elink.fcgi', dbfrom='pubmed', linkname='pubmed_pubmed_citedin', id=pmid, retmode='json').json()\n",
    "    dbs = j['linksets'][0].get('linksetdbs', [])\n",
    "    return dbs[0]['links'] if dbs else []\n",
    "\n",
    "def get_pmc_jats(pmcid: str):\n",
    "    if not pmcid:\n",
    "        return None\n",
    "    xml = _get(EU+'efetch.fcgi', db='pmc', id=pmcid).text\n",
    "    try:\n",
    "        return etree.fromstring(xml.encode())\n",
    "    except Exception:\n",
    "        return None\n",
    "\n",
    "def find_ref_ids_for_target(jats_root, target_pmid: str, target_doi: str):\n",
    "    if jats_root is None:\n",
    "        return []\n",
    "    ref_ids = []\n",
    "    for ref in jats_root.xpath('.//ref-list//ref'):\n",
    "        rid = ref.get('id')\n",
    "        if not rid:\n",
    "            continue\n",
    "        pmid = (ref.xpath('string(.//pub-id[@pub-id-type=\"pmid\"])') or '').strip()\n",
    "        doi  = (ref.xpath('string(.//pub-id[@pub-id-type=\"doi\"])') or '').strip().lower()\n",
    "        ext_doi = (ref.xpath('string(.//ext-link[@ext-link-type=\"doi\"])') or '').strip().lower()\n",
    "        if (pmid and pmid == target_pmid) or (target_doi and (doi == target_doi or ext_doi == target_doi)):\n",
    "            ref_ids.append(rid)\n",
    "    return list(dict.fromkeys(ref_ids))\n",
    "\n",
    "def paragraph_text_with_marker(node_xml: str, rid: str) -> str:\n",
    "    marked = re.sub(rf'<xref[^>]*\\brid\\s*=\\s*\"{rid}\"[^>]*>.*?</xref>', ' [CIT] ', node_xml, flags=re.I|re.S)\n",
    "    text = re.sub(r'<[^>]+>', '', marked)\n",
    "    text = re.sub(r'\\s+', ' ', text).strip()\n",
    "    return text\n",
    "\n",
    "BLOCK_TAGS = {'p','td','th','caption','sec','list-item'}\n",
    "\n",
    "def extract_citation_sentences(jats_root, rid: str):\n",
    "    sents = []\n",
    "    if jats_root is None:\n",
    "        return sents\n",
    "    xrefs = jats_root.xpath(f\".//body//xref[@ref-type='bibr' and @rid='{rid}']\")\n",
    "    for x in xrefs:\n",
    "        node = x\n",
    "        while node is not None and node.tag not in BLOCK_TAGS:\n",
    "            node = node.getparent()\n",
    "        if node is None:\n",
    "            node = x.getparent()\n",
    "        xml_str = etree.tostring(node, encoding='unicode')\n",
    "        text = paragraph_text_with_marker(xml_str, rid)\n",
    "        for sent in sent_tokenize(text):\n",
    "            if 'CIT' in sent:\n",
    "                sents.append(sent.strip())\n",
    "    return list(dict.fromkeys(sents))\n",
    "\n",
    "# ---- Scorers ----\n",
    "sid = SentimentIntensityAnalyzer()\n",
    "import re as _re\n",
    "TOKEN = _re.compile(r\"[A-Za-z']+\")\n",
    "CUSTOM_POS = {'support','increase','enhance','robust','effective','novel','improve','key','helps','correlated','important','useful'}\n",
    "CUSTOM_NEG = {'reduce','decrease','inhibit','fail','negative','contradict','weak','poor','limited'}\n",
    "\n",
    "def vader01(text: str) -> float:\n",
    "    return (sid.polarity_scores(text)['compound'] + 1) / 2\n",
    "\n",
    "def textblob01(text: str) -> float:\n",
    "    return (TextBlob(text).sentiment.polarity + 1) / 2\n",
    "\n",
    "def ratios_and_custom(text: str):\n",
    "    toks = [t.lower() for t in TOKEN.findall(text)]\n",
    "    if not toks:\n",
    "        return 0.5, 0.0, 0.0\n",
    "    S = set(toks)\n",
    "    pos = len(S & CUSTOM_POS)\n",
    "    neg = len(S & CUSTOM_NEG)\n",
    "    total = len(S)\n",
    "    pos_ratio = pos / total\n",
    "    neg_ratio = neg / total\n",
    "    score = (pos - neg) / (pos + neg + 1e-6)\n",
    "    score01 = (score + 1) / 2\n",
    "    return score01, pos_ratio, neg_ratio\n"
   ]
  },
  {
   "cell_type": "markdown",
   "id": "d152afbc",
   "metadata": {},
   "source": [
    "## Run pipeline"
   ]
  },
  {
   "cell_type": "code",
   "execution_count": 5,
   "id": "d1d1a91e",
   "metadata": {},
   "outputs": [
    {
     "name": "stderr",
     "output_type": "stream",
     "text": [
      "Cited-by for PMID 10519872: 100%|█████████████████████████████████████████████████████████████████| 50/50 [01:42<00:00,  2.06s/it]\n"
     ]
    },
    {
     "data": {
      "text/plain": [
       "'results_csv/10519872_citations_refaware_basic.csv'"
      ]
     },
     "execution_count": 5,
     "metadata": {},
     "output_type": "execute_result"
    }
   ],
   "source": [
    "import os\n",
    "os.makedirs(OUT_DIR, exist_ok=True)\n",
    "\n",
    "tmeta = get_pubmed_meta(TARGET_PMID)\n",
    "t_title, t_journal, t_doi = tmeta['title'], tmeta['journal'], tmeta['doi']\n",
    "\n",
    "citing = get_citing_pmids(TARGET_PMID)\n",
    "if MAX_CITING is not None:\n",
    "    citing = citing[:MAX_CITING]\n",
    "\n",
    "rows = []\n",
    "for cpmid in tqdm(citing, desc=f'Cited-by for PMID {TARGET_PMID}'):\n",
    "    try:\n",
    "        cmeta = get_pubmed_meta(cpmid)\n",
    "        ct_title, c_pmcid = cmeta['title'], cmeta['pmcid']\n",
    "        jats = get_pmc_jats(c_pmcid) if c_pmcid else None\n",
    "\n",
    "        sentences = []\n",
    "        ref_ids = []\n",
    "        if jats is not None:\n",
    "            ref_ids = find_ref_ids_for_target(jats, TARGET_PMID, t_doi)\n",
    "            for rid in ref_ids:\n",
    "                sentences.extend(extract_citation_sentences(jats, rid))\n",
    "\n",
    "        if not sentences and FALLBACK_TO_ABSTRACT:\n",
    "            xml = _get(EU+'efetch.fcgi', db='pubmed', id=cpmid, retmode='xml').text\n",
    "            root = etree.fromstring(xml.encode())\n",
    "            abst = ' '.join(root.xpath('.//AbstractText/text()')).strip()\n",
    "            sentences = sent_tokenize(abst) if abst else []\n",
    "\n",
    "        for sent in sentences:\n",
    "            v_vader = vader01(sent)\n",
    "            v_tb = textblob01(sent)\n",
    "            v_custom, r_pos, r_neg = ratios_and_custom(sent)\n",
    "            rows.append({\n",
    "                'source_title': t_title,\n",
    "                'source_journal': t_journal,\n",
    "                'citing_title': ct_title,\n",
    "                'citing_pmid': cpmid,\n",
    "                'pmcid': c_pmcid,\n",
    "                'ref_ids': ';'.join(ref_ids) if ref_ids else '',\n",
    "                'citation_sentence': sent,\n",
    "                'vader_score': v_vader,\n",
    "                'textblob_score': v_tb,\n",
    "                'custom_score': v_custom,\n",
    "                'pos_ratio': r_pos,\n",
    "                'neg_ratio': r_neg,\n",
    "            })\n",
    "        time.sleep(PAUSE)\n",
    "    except Exception as e:\n",
    "        print('WARN:', cpmid, e)\n",
    "\n",
    "import pandas as pd\n",
    "cols = ['source_title','source_journal','citing_title','citing_pmid','pmcid','ref_ids',\n",
    "        'citation_sentence','vader_score','textblob_score','custom_score','pos_ratio','neg_ratio']\n",
    "df = pd.DataFrame(rows, columns=cols)\n",
    "out_csv = os.path.join(OUT_DIR, f\"{TARGET_PMID}_citations_refaware_basic.csv\")\n",
    "df.to_csv(out_csv, index=False)\n",
    "out_csv"
   ]
  },
  {
   "cell_type": "code",
   "execution_count": null,
   "id": "aed21af0-f930-4bf6-9cfe-41a991e1bc94",
   "metadata": {},
   "outputs": [],
   "source": []
  }
 ],
 "metadata": {
  "kernelspec": {
   "display_name": "Python (wholebif)",
   "language": "python",
   "name": "wholebif"
  },
  "language_info": {
   "codemirror_mode": {
    "name": "ipython",
    "version": 3
   },
   "file_extension": ".py",
   "mimetype": "text/x-python",
   "name": "python",
   "nbconvert_exporter": "python",
   "pygments_lexer": "ipython3",
   "version": "3.10.18"
  }
 },
 "nbformat": 4,
 "nbformat_minor": 5
}
